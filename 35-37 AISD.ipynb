{
 "cells": [
  {
   "cell_type": "markdown",
   "id": "7edb68d5-f724-453b-8e3c-71906e2f864f",
   "metadata": {},
   "source": [
    "Создайте двусвязный список для хранения информации о задачах в календаре. Каждый элемент списка должен содержать название задачи, описание, дату начала и дату окончания, а также список напоминаний о задаче (например, за день до окончания, за час до начала и т.д.)."
   ]
  },
  {
   "cell_type": "code",
   "execution_count": 39,
   "id": "2a30439c-39c6-4638-a2f2-1b5bdda0cb1c",
   "metadata": {},
   "outputs": [
    {
     "name": "stdout",
     "output_type": "stream",
     "text": [
      "{'name': 'День Рождения', 'descr': 'У меня День Рождения', 'st_date': '14.05', 'end_date': '15.05', 'remind': 'За день до начала'}\n",
      "{'name': 5, 'descr': 2, 'st_date': 3, 'end_date': 4, 'remind': 5}\n",
      "{'name': 4, 'descr': 23, 'st_date': 3, 'end_date': 4, 'remind': 5}\n",
      "\n"
     ]
    }
   ],
   "source": [
    "class Node():\n",
    "    def __init__(self, name, descr, st_date, end_date, remind):\n",
    "        self.el = {'name':name, 'descr':descr,'st_date':st_date,'end_date':end_date,'remind':remind}\n",
    "        self.next = None\n",
    "        self.prev = None\n",
    "        self.index = 0\n",
    "\n",
    "class link():\n",
    "    def __init__(self):\n",
    "        self.head = None\n",
    "        self.tail = None\n",
    "    \n",
    "    def append(self, name, descr, st_date, end_date, remind):\n",
    "        newL = Node(name, descr, st_date, end_date, remind)\n",
    "        if self.head== None:\n",
    "            self.head = newL\n",
    "            self.tail = newL\n",
    "        else:\n",
    "            newL.index = self.tail.index + 1\n",
    "            self.tail.next = newL\n",
    "            newL.prev = self.tail\n",
    "            self.tail = newL\n",
    "\n",
    "    def pop(self, ind):\n",
    "        x = self.getlinkfromindex(ind)\n",
    "        if x == False:\n",
    "            print(\"Nopop\")\n",
    "        x.prev.next = x.next\n",
    "        x.next.prev = x.prev\n",
    "    \n",
    "    def getlinkfromindex(self, ind):\n",
    "        x = self.head\n",
    "        l = x.index\n",
    "        while l != ind:\n",
    "            x = x.next\n",
    "            if x == None:\n",
    "                return False\n",
    "            l = x.index\n",
    "        return x\n",
    "    \n",
    "    def __getitem__(self, ind):\n",
    "        x = self.getlinkfromindex(ind)\n",
    "        if x:\n",
    "            return x.el\n",
    "        else:\n",
    "            return (\"Элемента с таким индексом нет\")\n",
    "\n",
    "    def __setitem__(self, key, value):\n",
    "        x = self.getlinkfromindex(key)\n",
    "        if x:\n",
    "            x.el = value\n",
    "        else:print(\"Элемента с таким индексом нет\")\n",
    "\n",
    "    def __len__(self):\n",
    "        return self.tail.index + 1\n",
    "    \n",
    "    def __str__(self):\n",
    "        l = ''\n",
    "        x = self.head\n",
    "        while x != None:\n",
    "            l+= str(x.el) + \"\\n\"\n",
    "            x = x.next\n",
    "        return l\n",
    "\n",
    "ch = link()\n",
    "ch.append(\"День Рождения\",\"У меня День Рождения\",\"14.05\",\"15.05\",\"За день до начала\")\n",
    "ch.append(5,2,3,4,5)\n",
    "ch.append(4,23,3,4,5)\n",
    "print(ch)"
   ]
  },
  {
   "cell_type": "markdown",
   "id": "9657d60c-199a-4609-836d-1326ece6e58a",
   "metadata": {},
   "source": [
    "Реализовать функцию, которая находит средний элемент в двусвязном списке."
   ]
  },
  {
   "cell_type": "code",
   "execution_count": 42,
   "id": "1fa4370d-d447-46e9-b825-b77573b0b52b",
   "metadata": {},
   "outputs": [
    {
     "data": {
      "text/plain": [
       "{'name': 5, 'descr': 2, 'st_date': 3, 'end_date': 4, 'remind': 5}"
      ]
     },
     "execution_count": 42,
     "metadata": {},
     "output_type": "execute_result"
    }
   ],
   "source": [
    "def find_middle(ch):\n",
    "    return ch.getlinkfromindex(ch.tail.index //2).el\n",
    "find_middle(ch)"
   ]
  },
  {
   "cell_type": "markdown",
   "id": "bc54a698-7e78-49df-85e4-db78686e1b66",
   "metadata": {},
   "source": [
    "Реализовать функцию, которая сортирует циклический двусвязный список по возрастанию."
   ]
  },
  {
   "cell_type": "code",
   "execution_count": 5,
   "id": "650f3f8e-7851-4b64-aa95-5cebdd37c939",
   "metadata": {},
   "outputs": [
    {
     "name": "stdout",
     "output_type": "stream",
     "text": [
      "2\n",
      "5\n",
      "4\n",
      "7\n",
      "1\n",
      "\n",
      "1\n",
      "2\n",
      "4\n",
      "5\n",
      "7\n",
      "\n"
     ]
    }
   ],
   "source": [
    "def stone_bubble_sort(ch1):\n",
    "    for j in range(len(ch1)-1):  # опускаем камешек\n",
    "        if ch1[j] > ch1[j+1]:  # больший элемент двигаем ближе к концу списка\n",
    "            ch1[j+1], ch1[j] = ch1[j], ch1[j+1]\n",
    "            for i in range(j, 0, -1):  # поднимаем пузырек\n",
    "                if ch1[i-1] > ch1[i]:  # меньший элемент двигаем ближе к началу списка\n",
    "                    ch1[i], ch1[i-1] = ch1[i-1], ch1[i]\n",
    "    return ch1\n",
    "\n",
    "class Node1():\n",
    "    def __init__(self, el):\n",
    "        self.el = int(el)\n",
    "        self.next = None\n",
    "        self.prev = None\n",
    "        self.index = 0\n",
    "        \n",
    "class link1():\n",
    "    def __init__(self):\n",
    "        self.head = None\n",
    "        self.tail = None\n",
    "    \n",
    "    def append(self, el):\n",
    "        newL = Node1(el)\n",
    "        if self.head== None:\n",
    "            self.head = newL\n",
    "            self.tail = newL\n",
    "        else:\n",
    "            newL.index = self.tail.index + 1\n",
    "            self.tail.next = newL\n",
    "            newL.prev = self.tail\n",
    "            self.tail = newL\n",
    "\n",
    "    def pop(self, ind):\n",
    "        x = self.getlinkfromindex(ind)\n",
    "        if x == False:\n",
    "            print(\"Nopop\")\n",
    "        x.prev.next = x.next\n",
    "        x.next.prev = x.prev\n",
    "    \n",
    "    def getlinkfromindex(self, ind):\n",
    "        x = self.head\n",
    "        l = x.index\n",
    "        while l != ind:\n",
    "            x = x.next\n",
    "            if x == None:\n",
    "                return False\n",
    "            l = x.index\n",
    "        return x\n",
    "    \n",
    "    def __getitem__(self, ind):\n",
    "        x = self.getlinkfromindex(ind)\n",
    "        if x:\n",
    "            return x.el\n",
    "        else:\n",
    "            return (\"Элемента с таким индексом нет\")\n",
    "\n",
    "    def __setitem__(self, key, value):\n",
    "        x = self.getlinkfromindex(key)\n",
    "        if x:\n",
    "            x.el = value\n",
    "        else:print(\"Элемента с таким индексом нет\")\n",
    "\n",
    "    def __len__(self):\n",
    "        return self.tail.index + 1\n",
    "    \n",
    "    def __str__(self):\n",
    "        l = ''\n",
    "        x = self.head\n",
    "        while x != None:\n",
    "            l+= str(x.el) + \"\\n\"\n",
    "            x = x.next\n",
    "        return l\n",
    "\n",
    "ch1 = link1()\n",
    "ch1.append(2)\n",
    "ch1.append(5)\n",
    "ch1.append(4)\n",
    "ch1.append(7)\n",
    "ch1.append(1)\n",
    "print(ch1)\n",
    "print(stone_bubble_sort(ch1))"
   ]
  },
  {
   "cell_type": "code",
   "execution_count": null,
   "id": "49341c2a-c1d2-49fc-a5da-be7519e2b9be",
   "metadata": {},
   "outputs": [],
   "source": []
  }
 ],
 "metadata": {
  "kernelspec": {
   "display_name": "Python 3 (ipykernel)",
   "language": "python",
   "name": "python3"
  },
  "language_info": {
   "codemirror_mode": {
    "name": "ipython",
    "version": 3
   },
   "file_extension": ".py",
   "mimetype": "text/x-python",
   "name": "python",
   "nbconvert_exporter": "python",
   "pygments_lexer": "ipython3",
   "version": "3.11.0"
  }
 },
 "nbformat": 4,
 "nbformat_minor": 5
}
