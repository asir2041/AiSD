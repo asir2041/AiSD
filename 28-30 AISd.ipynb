{
 "cells": [
  {
   "cell_type": "markdown",
   "id": "2f70e54b-d695-44a1-9fa7-511320d611d9",
   "metadata": {},
   "source": [
    "№28\n",
    "а) Отфильтровать список целых чисел на чётные и нечётные числа с помощью лямбда-функции."
   ]
  },
  {
   "cell_type": "code",
   "execution_count": 60,
   "id": "df7e13dc-7170-4d08-8769-bf8b3cac6869",
   "metadata": {},
   "outputs": [
    {
     "name": "stdout",
     "output_type": "stream",
     "text": [
      "[-10, -8, -6, -4, -2, 0, 2, 4, 6, 8]\n",
      "[-9, -7, -5, -3, -1, 1, 3, 5, 7, 9]\n"
     ]
    }
   ],
   "source": [
    "integers = range(-10,10)\n",
    "even = [] #Массив чётных\n",
    "odd = [] #Массив нечётных\n",
    "even_odd = lambda x: [even.append(el) if el % 2 == 0 else odd.append(el) for el in x]\n",
    "even_odd(integers) #Вызываем лямбда функцию\n",
    "print(even)\n",
    "print(odd)\n"
   ]
  },
  {
   "cell_type": "markdown",
   "id": "4a65e295-ad8a-4019-97b7-a6a872b942f9",
   "metadata": {},
   "source": [
    "б) Для удаления определённых слов из заданного списка используйте лямбда-функцию. Пример: дан список слов ['orange', 'red', 'green', 'blue', 'white', 'black'], удалить слова ['orange', 'black'] → ['red', 'green', 'blue', 'white']."
   ]
  },
  {
   "cell_type": "code",
   "execution_count": 5,
   "id": "0f64184b-babd-4713-9d75-96d32044ada2",
   "metadata": {},
   "outputs": [
    {
     "data": {
      "text/plain": [
       "['red', 'green', 'blue', 'white']"
      ]
     },
     "execution_count": 5,
     "metadata": {},
     "output_type": "execute_result"
    }
   ],
   "source": [
    "l1 = ['orange', 'red', 'green', 'blue', 'white', 'black']\n",
    "blacklist = ['orange', 'black', 'huh'] #Список удаляемых слов\n",
    "check_list = lambda x, y: [x.remove(el) for el in y if el in x]\n",
    "check_list(l1, blacklist) #Вызываем лямбда функцию\n",
    "l1\n"
   ]
  },
  {
   "cell_type": "markdown",
   "id": "df11ccea-8402-4b46-93df-17cf045ccf84",
   "metadata": {},
   "source": [
    "в) Используя лямбда-функцию, проверить, отсортирован ли указанный список или нет."
   ]
  },
  {
   "cell_type": "code",
   "execution_count": 62,
   "id": "5fdc7a65-2060-4142-98de-9bc5a6412cd4",
   "metadata": {},
   "outputs": [
    {
     "name": "stdout",
     "output_type": "stream",
     "text": [
      "НЕ отсортирован\n",
      "отсортирован\n"
     ]
    }
   ],
   "source": [
    "a = [1,2,5,4]\n",
    "srt = lambda x: \"отсортирован\" if x == sorted(x) else \"НЕ отсортирован\"\n",
    "print(srt(a)) #Проверяем функцию на несортированном  списке\n",
    "a.sort()\"\n",
    "print(srt(a)) #Проверяем функцию на сортированном  списке\n"
   ]
  },
  {
   "cell_type": "markdown",
   "id": "e550218c-d626-4e90-b709-586992e5af28",
   "metadata": {},
   "source": [
    "№29\n",
    "а) С помощью функции map() преобразуйте каждую строку из заданного списка строк в список символов. Пример: ['Red', 'Blue', 'Black', 'White', 'Pink'] → [['R', 'e', 'd'], ['B', 'l', 'u', 'e'], ['B', 'l', 'a', 'c', 'k'], ['W', 'h', 'i', 't', 'e'], ['P', 'i', 'n', 'k']]."
   ]
  },
  {
   "cell_type": "code",
   "execution_count": 8,
   "id": "7b9816c9-2ff7-4594-bd79-69d448c8cc3d",
   "metadata": {},
   "outputs": [
    {
     "data": {
      "text/plain": [
       "[['R', 'e', 'd'],\n",
       " ['B', 'l', 'u', 'e'],\n",
       " ['B', 'l', 'a', 'c', 'k'],\n",
       " ['W', 'h', 'i', 't', 'e'],\n",
       " ['P', 'i', 'n', 'k']]"
      ]
     },
     "execution_count": 8,
     "metadata": {},
     "output_type": "execute_result"
    }
   ],
   "source": [
    "in_list = ['Red', 'Blue', 'Black', 'White', 'Pink']\n",
    "ans_list = list(map(lambda x: list(x), in_list))\n",
    "ans_list\n"
   ]
  },
  {
   "cell_type": "markdown",
   "id": "70908a53-7ef8-4ac9-b03d-d45c2d56a649",
   "metadata": {},
   "source": [
    "б) Сгенерировать список целых чисел. С помощью функции filter() выбрать из списка все числа больше заданного числа и упорядочить их по убыванию. Используя функцию reduce(), найти их произведение.\n"
   ]
  },
  {
   "cell_type": "code",
   "execution_count": 7,
   "id": "a5720d20-c0e3-470d-86f7-f25b2751e048",
   "metadata": {},
   "outputs": [
    {
     "name": "stdout",
     "output_type": "stream",
     "text": [
      "-4\n",
      "[5, 3, 1, -1, -3]\n",
      "45\n"
     ]
    }
   ],
   "source": [
    "from functools import reduce\n",
    "\n",
    "\n",
    "integers = [numb for numb in range(-5, 6) if numb % 2 != 0]\n",
    "mark_numb = int(input()) #Задаём число\n",
    "l1 = sorted(list(filter(lambda x: x > mark_numb, integers)), reverse=True) #Выбираем числа из списка, по убыванию\n",
    "print(l1) #Проверяем список\n",
    "print(reduce(lambda a,b: a*b, l1)) #Ищем произведение\n"
   ]
  }
 ],
 "metadata": {
  "kernelspec": {
   "display_name": "Python 3 (ipykernel)",
   "language": "python",
   "name": "python3"
  },
  "language_info": {
   "codemirror_mode": {
    "name": "ipython",
    "version": 3
   },
   "file_extension": ".py",
   "mimetype": "text/x-python",
   "name": "python",
   "nbconvert_exporter": "python",
   "pygments_lexer": "ipython3",
   "version": "3.11.0"
  }
 },
 "nbformat": 4,
 "nbformat_minor": 5
}
