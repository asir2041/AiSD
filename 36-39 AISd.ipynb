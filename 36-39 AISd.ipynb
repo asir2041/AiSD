{
 "cells": [
  {
   "cell_type": "markdown",
   "id": "6735b062-54f2-47d1-a0ff-66d05d930ef8",
   "metadata": {},
   "source": [
    "Необходимо отсортировать массив строк по длине и вывести результат на экран, используя алгоритмы сортировки: сортировку выбором, сортировку пузырьком и быструю сортировку.\n"
   ]
  },
  {
   "cell_type": "code",
   "execution_count": 103,
   "id": "0fe93233-9606-4589-b46d-e5cdf5f5c2b1",
   "metadata": {},
   "outputs": [],
   "source": [
    "def stone_bubble_sort(lst2):\n",
    "    comps = 0\n",
    "    swaps = 0\n",
    "    lst = lst2.copy()\n",
    "    for j in range(len(lst)-1):  # опускаем камешек\n",
    "        comps += 1\n",
    "        if lst[j][0] > lst[j+1][0]:  # больший элемент двигаем ближе к концу списка\n",
    "            swaps += 1\n",
    "            lst[j+1], lst[j] = lst[j], lst[j+1]\n",
    "            for i in range(j, 0, -1):  # поднимаем пузырек\n",
    "                comps += 1\n",
    "                if lst[i-1][0] > lst[i][0]:  # меньший элемент двигаем ближе к началу списка\n",
    "                    swaps += 1\n",
    "                    lst[i], lst[i-1] = lst[i-1], lst[i]\n",
    "    return lst\n",
    "\n",
    "def selection_sort(lst):\n",
    "    for fill_slot in range(len(lst) -1, 0, -1):\n",
    "        pos_of_max = 0 #Смотрим не макс эл\n",
    "        for location in range(1,fill_slot+1):#Проходимся по всей оставшейся части\n",
    "            if lst[location][0] > lst[pos_of_max][0]:\n",
    "                pos_of_max = location\n",
    "            temp = lst[fill_slot]\n",
    "            lst[fill_slot] = lst[pos_of_max]\n",
    "            lst[pos_of_max] = temp#Меняем местами\n",
    "    return lst\n",
    "\n",
    "def quick_sort(lst: list):\n",
    "    if len(lst) <= 1:\n",
    "        return lst\n",
    "    separator = lst[len(lst) // 2][0]#Создаем три списка и выбираем точку деления\n",
    "    lesser_lst = []\n",
    "    equal_lst = []\n",
    "    greater_lst = []\n",
    "    for el in lst:#Расфасовываем по спискам\n",
    "        if el[0] < separator:\n",
    "            lesser_lst.append(el)\n",
    "        elif el[0] == separator:\n",
    "            equal_lst.append(el)\n",
    "        else:\n",
    "            greater_lst.append(el)\n",
    "    \n",
    "    tmp_lst1 = quick_sort(lesser_lst)\n",
    "    tmp_lst2 = quick_sort(greater_lst)\n",
    "    return tmp_lst1 + equal_lst + tmp_lst2"
   ]
  },
  {
   "cell_type": "code",
   "execution_count": 105,
   "id": "1b9cd27b-eebb-4126-9cb4-5c221b65da60",
   "metadata": {},
   "outputs": [
    {
     "name": "stdout",
     "output_type": "stream",
     "text": [
      "Изначальный список: ['aabb', 'aavcc', 'aac', 'wafarf']\n",
      "После сортировки пузырьком: ['aac', 'aabb', 'aavcc', 'wafarf']\n",
      "После сортировки выборкой: ['aac', 'aabb', 'aavcc', 'wafarf']\n",
      "После быстрой сортировки: ['aac', 'aabb', 'aavcc', 'wafarf']\n"
     ]
    }
   ],
   "source": [
    "def convert(stringlst, sortedlst):#Сортирует по длина, потом выстраивавет по индексу\n",
    "    return [stringlst[el[1]] for el in sortedlst]\n",
    "    \n",
    "a = ['aabb','aavcc','aac','wafarf']\n",
    "b = [(len(a[i]), i) for i in range(len(a))]\n",
    "\n",
    "print(\"Изначальный список:\",a)#\n",
    "print(\"После сортировки пузырьком:\",convert(a, stone_bubble_sort(b)))\n",
    "print(\"После сортировки выборкой:\", convert(a, selection_sort(b)))\n",
    "print(\"После быстрой сортировки:\", convert(a, quick_sort(b)))"
   ]
  },
  {
   "cell_type": "markdown",
   "id": "110034b8-7cf5-469c-8c01-0dd9a9028723",
   "metadata": {},
   "source": [
    "Реализовать класс бинарного дерева. Написать функцию для нахождения наибольшей глубины листьев в бинарном дереве."
   ]
  },
  {
   "cell_type": "code",
   "execution_count": 190,
   "id": "51c08d00-7b24-40b1-acf3-5de0985f20a5",
   "metadata": {},
   "outputs": [
    {
     "name": "stdout",
     "output_type": "stream",
     "text": [
      "10 \n",
      "5 20 \n",
      "3 7 21 \n",
      "2 22 \n",
      "1 100 \n",
      "0 \n"
     ]
    }
   ],
   "source": [
    "class Leaf:\n",
    "    def __init__(self, data):\n",
    "        self.data = data #Значение листа\n",
    "        self.left = self.right = None #Ответвления\n",
    "\n",
    "class Tree:\n",
    "    def __init__(self):\n",
    "        self.root = None#Корень\n",
    "        \n",
    "    def __find(self, node, parent, value):\n",
    "        if node is None:\n",
    "            return None, parent, False#Запоминаем родителей листа\n",
    "        if value == node.data:\n",
    "            return node, parent, True\n",
    "        if value < node.data:\n",
    "            if node.left:\n",
    "                return self.__find(node.left, node, value)\n",
    "        if value > node.data:\n",
    "            if node.right:\n",
    "                return self.__find(node.right, node, value)\n",
    "        return node, parent, False\n",
    " \n",
    "    def append(self, leaf):\n",
    "        obj = Leaf(leaf)#Добавляем новый лист в дерево\n",
    "        if self.root is None:\n",
    "            self.root = obj\n",
    "            return obj\n",
    "        s, p, fl_find = self.__find(self.root, None, obj.data)\n",
    "        if not fl_find and s:\n",
    "            if obj.data < s.data:\n",
    "                s.left = obj\n",
    "            else:\n",
    "                s.right = obj\n",
    "        return obj\n",
    "    \n",
    "    def show_tree(self):#Распечатать дерево по уровням\n",
    "        node = self.root\n",
    "        if node is None:\n",
    "            return\n",
    "        v = [node]\n",
    "        while v:\n",
    "            vn = []\n",
    "            for x in v:\n",
    "                print(x.data, end=\" \")\n",
    "                if x.left:\n",
    "                    vn += [x.left]\n",
    "                if x.right:\n",
    "                    vn += [x.right]\n",
    "            print()\n",
    "            v = vn\n",
    "\n",
    "    \n",
    "    def Depth(self):\n",
    "        x = self.root\n",
    "        c = 0\n",
    "        mx = 0\n",
    "        def go_down(x, c, mx):#Проходимся по всем листям\n",
    "            if x.left == None and x.right == None:#С помощью рекурсии, запоминая макс глубину\n",
    "                return c\n",
    "            if x.left != None:#Смотрим на левый лист\n",
    "                c1 = go_down(x.left, c+1, mx)\n",
    "                mx = max(mx, c1)\n",
    "            if x.right != None:#Смотрим на правый лист\n",
    "                c2 = go_down(x.right, c+1, mx)\n",
    "                mx = max(mx, c2)\n",
    "            return mx\n",
    "        return go_down(x,c, mx)\n",
    "tr1 = Tree()\n",
    "\n",
    "v = [10, 5, 7,20,21,22,100, 3, 2, 1, 0]\n",
    "for x in v:\n",
    "    tr1.append(x)\n",
    "tr1.show_tree()"
   ]
  },
  {
   "cell_type": "code",
   "execution_count": 191,
   "id": "4921a6d9-6715-4ead-aa54-d2c266ba424d",
   "metadata": {},
   "outputs": [
    {
     "name": "stdout",
     "output_type": "stream",
     "text": [
      "5\n"
     ]
    }
   ],
   "source": [
    "print(tr1.Depth())"
   ]
  },
  {
   "cell_type": "markdown",
   "id": "b7d93110-e606-4f34-9d93-2ca2b0326f6e",
   "metadata": {},
   "source": [
    "Создайте структуру данных «Top N», которая хранит  N  наибольших элементов из потока входных данных. Структура должна поддерживать операцию добавления нового элемента в поток. Используйте для этого двоичную кучу."
   ]
  },
  {
   "cell_type": "code",
   "execution_count": 99,
   "id": "dfb03a20-7ffa-488b-975d-d1993c861c5a",
   "metadata": {},
   "outputs": [],
   "source": [
    "Top_N = []\n",
    "a = []\n",
    "def siftDown(i):#Восстанавливает кучу проводя элемент вниз\n",
    "    while 2 * i + 1 < len(a):#Смотрим на потомков\n",
    "        left = 2 * i + 1             \n",
    "        right = 2 * i + 2            \n",
    "        j = left\n",
    "        if right > len(a) and a[right] > a[left]:#Меняем местами с наибольшми\n",
    "            j = right\n",
    "        if a[i] >= a[j]:\n",
    "            break\n",
    "        a[i], a[j] = a[j], a[i]\n",
    "        i = j\n",
    "def siftUp(i):#Восстанавливает кучу проводя элемент вверх\n",
    "    while a[i] > a[(i - 1) // 2]:\n",
    "        a[i], a[(i - 1) // 2] = a[(i - 1) // 2], a[i]#Если уже не куча, то меняем местами\n",
    "        i = (i - 1) // 2\n",
    "def push(el):#Добавляем эл\n",
    "    if len(a) == 3:\n",
    "        a.append(el)\n",
    "        siftUp(len(a)-1)\n",
    "        siftDown(2)\n",
    "        a.pop()\n",
    "    else:\n",
    "        a.append(el)\n",
    "        siftUp(len(a)-1)"
   ]
  },
  {
   "cell_type": "code",
   "execution_count": 100,
   "id": "9505876c-1e50-4aa2-bda8-d7ad53a1efc5",
   "metadata": {},
   "outputs": [
    {
     "name": "stdin",
     "output_type": "stream",
     "text": [
      " 3\n"
     ]
    }
   ],
   "source": [
    "N = int(input())"
   ]
  },
  {
   "cell_type": "code",
   "execution_count": 101,
   "id": "5c00779d-a6bc-4a06-9138-d6dc28da3da0",
   "metadata": {},
   "outputs": [
    {
     "name": "stdout",
     "output_type": "stream",
     "text": [
      "[9, 6, 7]\n"
     ]
    }
   ],
   "source": [
    "b = [9, 5, 7, 1, 6, 3]\n",
    "for el in b:\n",
    "    push(el)\n",
    "Top_N = a\n",
    "print(Top_N)"
   ]
  },
  {
   "cell_type": "code",
   "execution_count": null,
   "id": "1fb9c768-df0b-4076-ac01-fb5cfb42cb35",
   "metadata": {},
   "outputs": [],
   "source": []
  }
 ],
 "metadata": {
  "kernelspec": {
   "display_name": "Python 3 (ipykernel)",
   "language": "python",
   "name": "python3"
  },
  "language_info": {
   "codemirror_mode": {
    "name": "ipython",
    "version": 3
   },
   "file_extension": ".py",
   "mimetype": "text/x-python",
   "name": "python",
   "nbconvert_exporter": "python",
   "pygments_lexer": "ipython3",
   "version": "3.11.7"
  }
 },
 "nbformat": 4,
 "nbformat_minor": 5
}
