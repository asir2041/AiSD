{
 "cells": [
  {
   "cell_type": "markdown",
   "id": "334b51ed-1f99-4449-96db-8aceebcfd12d",
   "metadata": {},
   "source": [
    "Используя модуль array и библиотеку numpy, решить следующие задачи:\n",
    "а) Дан массив размера  N . Найти номера двух ближайших элементов из этого массива (т. е. элементов с наименьшим модулем разности) и вывести эти номера в порядке возрастания."
   ]
  },
  {
   "cell_type": "code",
   "execution_count": 14,
   "id": "a3110bae-f836-431f-99ce-490b5964bc59",
   "metadata": {},
   "outputs": [
    {
     "name": "stdout",
     "output_type": "stream",
     "text": [
      "Введите размер массива:4\n",
      "Введите элемент массива:13\n",
      "Введите элемент массива:19\n",
      "Введите элемент массива:14\n",
      "Введите элемент массива:25\n",
      "5.0 [14.0, 19.0]\n"
     ]
    }
   ],
   "source": [
    "import numpy as np\n",
    "\n",
    "\n",
    "n = int(input(\"Введите размер массива:\"))\n",
    "d = np.array([])\n",
    "for _ in range(n):\n",
    "    d = np.append(d, int(input(\"Введите элемент массива:\"))) \n",
    "mn = 10000000#Минимальная разность\n",
    "mn_els = []#Числа из минимальной разности\n",
    "for i in range(0, len(d)-1):\n",
    "    if abs(d[i] - d[i+1]) < mn:\n",
    "        mn = abs(d[i] - d[i+1])#Модуль разности\n",
    "        mn_els = sorted((d[i], d[i+1]))#Запоминаем элементы по возрастанию \n",
    "print(mn, mn_els)\n"
   ]
  },
  {
   "cell_type": "markdown",
   "id": "379f88f4-5cf5-4b3a-8eab-156060da5c09",
   "metadata": {},
   "source": [
    "б) Дана целочисленная матрица размера  M×N , элементы которой могут принимать значения от 0 до 100. Различные строки матрицы назовем похожими, если совпадают множества чисел, встречающихся в этих строках. Найти количество строк, похожих на первую строку данной матрицы."
   ]
  },
  {
   "cell_type": "code",
   "execution_count": 16,
   "id": "e6dadd46-8046-469d-a1ec-7fa7ef0a1875",
   "metadata": {
    "scrolled": true
   },
   "outputs": [
    {
     "name": "stdout",
     "output_type": "stream",
     "text": [
      "Введите M - размер матрицы:2\n",
      "Введите N - размер матрицы:25000\n",
      "[[65 64]\n",
      " [52 26]\n",
      " [ 9  6]\n",
      " ...\n",
      " [98 47]\n",
      " [16 59]\n",
      " [38 21]]\n",
      "4\n"
     ]
    }
   ],
   "source": [
    "import numpy as np\n",
    "n = int(input(\"Введите M - размер матрицы:\"))\n",
    "m = int(input(\"Введите N - размер матрицы:\"))\n",
    "mtrx = np.random.randint(low = 100, size =(m,n))\n",
    "first_row = mtrx[0,:]#Первый ряд матрциы\n",
    "cnt = 0\n",
    "print(mtrx)\n",
    "for row in mtrx[1:,:]:#Проходимся по каждому ряду\n",
    "    if (row == first_row).all():#Сравниваем с первым рядом\n",
    "        cnt+= 1\n",
    "print(cnt)"
   ]
  },
  {
   "cell_type": "markdown",
   "id": "86d80410-a621-466d-9092-0707e0d6fea6",
   "metadata": {},
   "source": [
    "Дан стек и два элемента  A  и  B . Необходимо удалить из стека все элементы, которые находятся между  A  и  B  (включая сами  A  и  B )."
   ]
  },
  {
   "cell_type": "markdown",
   "id": "b0413c19",
   "metadata": {},
   "source": [
    "Дан стек и два элемента A и B . Необходимо удалить из стека все элементы, которые находятся между A и B (включая сами A и B )."
   ]
  },
  {
   "cell_type": "code",
   "execution_count": 23,
   "id": "2a7568c4-0081-403b-85ee-caff2625b578",
   "metadata": {},
   "outputs": [
    {
     "name": "stdout",
     "output_type": "stream",
     "text": [
      "[2, 4, 6, 8, 10]\n",
      "[10, 8, 6]\n"
     ]
    }
   ],
   "source": [
    "class Stack(list):\n",
    "    def push(self, e):#Добавить элемент\n",
    "        self.append(e)\n",
    "    def is_empty(self):\n",
    "        return len(self) == 0\n",
    "    def __pop__(self):\n",
    "        return self.pop(-1)\n",
    "    def peek(self):\n",
    "        return self[-1]\n",
    "    def size(self):\n",
    "        return len(self)\n",
    "\n",
    "st = Stack([2,4,6,8,10])\n",
    "st1 = Stack()\n",
    "A = 2\n",
    "B = 4\n",
    "print(st)\n",
    "\n",
    "for i in range(st.size()):\n",
    "    el = st.peek()\n",
    "    if el == A or el == B:\n",
    "        st.pop()\n",
    "        el = st.peek()\n",
    "        while el != A and el != B:\n",
    "            st.pop()\n",
    "            el = st.peek()\n",
    "        st.pop()\n",
    "        break\n",
    "    else:\n",
    "        st1.push(st.pop())\n",
    "st2 = Stack()\n",
    "for el in st1:st2.push(el)\n",
    "for el in st2:st.push(el)\n",
    "print(st)"
   ]
  },
  {
   "cell_type": "code",
   "execution_count": 25,
   "id": "b3f7117f",
   "metadata": {},
   "outputs": [
    {
     "name": "stdout",
     "output_type": "stream",
     "text": [
      "[1, 2, 3, 4, 5, 6, 7]\n"
     ]
    },
    {
     "data": {
      "text/plain": [
       "[1, 5, 6, 7]"
      ]
     },
     "execution_count": 25,
     "metadata": {},
     "output_type": "execute_result"
    }
   ],
   "source": []
  },
  {
   "cell_type": "code",
   "execution_count": 36,
   "id": "87709165-dd4d-4441-8b8d-8fd83be1f7ea",
   "metadata": {},
   "outputs": [
    {
     "name": "stdout",
     "output_type": "stream",
     "text": [
      "6 5 4 3 2 1 \n",
      "6 5 1 \n",
      "7 6 5 1 \n",
      "6 5 1 \n"
     ]
    }
   ],
   "source": [
    "class Node():\n",
    "    def __init__(self, el):\n",
    "        self.data = el#Значение кольца цепочки\n",
    "        self.next = None#Ссылка на следующее кольцо\n",
    "        \n",
    "class stack():\n",
    "    def __init__(self):\n",
    "        self.head = None#Послденее кольцо в цепи\n",
    "        \n",
    "    def push(self, el):\n",
    "        NewL = Node(el)\n",
    "        if self.head == None:\n",
    "            self.head = NewL#Если первое кольцо\n",
    "        else:\n",
    "            NewL.next = self.head\n",
    "            self.head = NewL#Добавляем кольцо в конец цепочки\n",
    "        \n",
    "    def pop(self):\n",
    "        elem = self.head.data\n",
    "        self.head = self.head.next#Превращаем предпоследнее кольцо в последнее\n",
    "        return elem\n",
    "    \n",
    "    def peek(self):\n",
    "        elem = self.head.data#Выводим последнее кольцо без удаления\n",
    "        return elem\n",
    "    \n",
    "    def is_empty(self):\n",
    "        return self.head == None#Если нет колец\n",
    "    \n",
    "    def size(self):\n",
    "        x = self.head#\n",
    "        c = 0\n",
    "        while x != None:#Идём до последнего кольца\n",
    "            c += 1\n",
    "            x = x.next\n",
    "        return c\n",
    "    \n",
    "    def __str__(self):\n",
    "        l = ''\n",
    "        x = self.head\n",
    "        while x != None:#Идём до последнего кольца\n",
    "            l+= str(x.data) +\" \"\n",
    "            x = x.next\n",
    "        return l\n",
    "    \n",
    "    \n",
    "st = stack()\n",
    "for n in range(1,7):\n",
    "    st.push(n)\n",
    "print(st)\n",
    "A = 2\n",
    "B = 4\n",
    "st1 = []\n",
    "for i in range(st.size()):#Проходимся по всей цепи\n",
    "    el = st.peek()\n",
    "    if el == A or el == B:#Если нашли элеменет\n",
    "        st.pop()#Убираем этот элемент\n",
    "        el = st.peek()#И смотрим на следующий\n",
    "        while el != A and el != B:#Пока не дойдём до второго искомого элемента\n",
    "            st.pop()\n",
    "            el = st.peek()\n",
    "        st.pop()\n",
    "        break\n",
    "    else:#Если элемент не искомый до добавляем его в временный список\n",
    "        st1.append(st.pop())\n",
    "        \n",
    "for el in st1[::-1]:st.push(el)\n",
    "print(st)\n",
    "st.push(7)\n",
    "print(st)\n",
    "st.pop()\n",
    "print(st)"
   ]
  },
  {
   "cell_type": "markdown",
   "id": "200aef5e-f4f1-4dca-9a5d-9f07181c28e8",
   "metadata": {},
   "source": [
    "Создать класс очереди, который будет поддерживать операции добавления элемента в конец очереди, удаления элемента из начала очереди и сортировки элементов в очереди по возрастанию."
   ]
  },
  {
   "cell_type": "code",
   "execution_count": 37,
   "id": "150a67be-dd57-4cd0-abc9-7d61a14a7f59",
   "metadata": {},
   "outputs": [
    {
     "name": "stdout",
     "output_type": "stream",
     "text": [
      "[1, 2, 3, 7, 4, 6]\n",
      "[1, 2, 3, 7, 4, 6, 8]\n",
      "[2, 3, 7, 4, 6, 8]\n",
      "[2, 3, 4, 6, 7, 8]\n"
     ]
    }
   ],
   "source": [
    "class Stack(list):\n",
    "    def enqueue(self, e):\n",
    "        self.append(e)\n",
    "    def is_empty(self):\n",
    "        return len(self) == 0\n",
    "    def dequeue(self):\n",
    "        return self.pop(0)\n",
    "    def peek(self):\n",
    "        return self[-1]\n",
    "    def size(self):\n",
    "        return len(self)\n",
    "    def __sort__(self):\n",
    "        self.sort()\n",
    "st = Stack([1,2,3,7,4,6])\n",
    "print(st)\n",
    "st.enqueue(8)\n",
    "print(st)\n",
    "st.dequeue()\n",
    "print(st)\n",
    "st.sort()\n",
    "print(st)"
   ]
  },
  {
   "cell_type": "code",
   "execution_count": 28,
   "id": "d726df2b-c5bb-44f4-af24-6b589a74c86b",
   "metadata": {},
   "outputs": [
    {
     "name": "stdout",
     "output_type": "stream",
     "text": [
      "5 2 4 2 \n",
      "5 2 4 \n",
      "2 4 5 \n"
     ]
    }
   ],
   "source": [
    "class Node():\n",
    "    def __init__(self, el):\n",
    "        self.data = el\n",
    "        self.next = None\n",
    "class link():\n",
    "    def __init__(self):\n",
    "        self.head = None\n",
    "    def enqueue(self,el):\n",
    "        newL= Node(el)\n",
    "        if self.head is None:\n",
    "            self.head = newL\n",
    "        else:\n",
    "            newL.next = self.head\n",
    "            self.head = newL\n",
    "    def dequeue(self):\n",
    "        x = self.head\n",
    "        if x.next is None:\n",
    "            self.head = None\n",
    "            return x.data\n",
    "        while x.next.next != None:\n",
    "            x = x.next\n",
    "        elem = x.next.data\n",
    "        x.next = None\n",
    "        return elem\n",
    "        \n",
    "    def peek(self):\n",
    "        elem = self.head.data\n",
    "        return elem\n",
    "        \n",
    "    def is_empty(self):\n",
    "        return self.head == None\n",
    "        \n",
    "    def size(self):\n",
    "        x = self.head\n",
    "        c = 0\n",
    "        while x != None:\n",
    "            c += 1\n",
    "            x = x.next\n",
    "        return c\n",
    "        \n",
    "    def __str__(self):\n",
    "        l = ''\n",
    "        x = self.head\n",
    "        while x != None:\n",
    "            l+= str(x.data) +\" \"\n",
    "            x = x.next\n",
    "        return l\n",
    "        \n",
    "    def sort(self):\n",
    "        temp_list = []\n",
    "        for i in range(self.size()):\n",
    "            temp_list.append(self.dequeue())\n",
    "        temp_list.sort(reverse=True)\n",
    "        for el in temp_list:\n",
    "            self.enqueue(el)\n",
    "ch = link()\n",
    "ch.enqueue(2)\n",
    "ch.enqueue(4)\n",
    "ch.enqueue(2)\n",
    "ch.enqueue(5)\n",
    "print(ch)\n",
    "ch.dequeue()\n",
    "print(ch)\n",
    "ch.sort()\n",
    "print(ch)"
   ]
  },
  {
   "cell_type": "code",
   "execution_count": null,
   "id": "6c6755d2-2d65-4599-a702-53032dd6a181",
   "metadata": {},
   "outputs": [],
   "source": []
  }
 ],
 "metadata": {
  "kernelspec": {
   "display_name": "Python 3 (ipykernel)",
   "language": "python",
   "name": "python3"
  },
  "language_info": {
   "codemirror_mode": {
    "name": "ipython",
    "version": 3
   },
   "file_extension": ".py",
   "mimetype": "text/x-python",
   "name": "python",
   "nbconvert_exporter": "python",
   "pygments_lexer": "ipython3",
   "version": "3.11.0"
  }
 },
 "nbformat": 4,
 "nbformat_minor": 5
}
